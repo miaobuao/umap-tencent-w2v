{
 "cells": [
  {
   "cell_type": "code",
   "execution_count": 1,
   "metadata": {},
   "outputs": [],
   "source": [
    "import numpy as np\n",
    "\n",
    "def w2v_reader(path: str):\n",
    "    w2v: dict[str, np.ndarray] = {}\n",
    "    with open(path, 'r') as f:\n",
    "        n, dim = map(int, f.readline().split())\n",
    "        while True:\n",
    "            line = f.readline()\n",
    "            if not line:\n",
    "                break\n",
    "            word, vec = line.split(\" \", 1)\n",
    "            vec = np.asarray(vec.split(' '), dtype=np.float32)\n",
    "            w2v[word] = vec\n",
    "    return n, dim, w2v\n",
    "\n",
    "n_words, n_dim, w2v = w2v_reader(\"./w2v/tencent-ailab-embedding-zh-d100-v0.2.0-s.txt\")\n",
    "words, matrix = zip(*w2v.items())\n",
    "wordsNdArr = np.array(words)\n",
    "matrix = np.array(matrix)"
   ]
  },
  {
   "cell_type": "code",
   "execution_count": null,
   "metadata": {},
   "outputs": [],
   "source": [
    "def findNNByQ(q: np.ndarray, matrix: np.ndarray, k: int = 10):\n",
    "    dist = np.linalg.norm(matrix - q, ord=2, axis=1)\n",
    "    indices = np.argsort(dist)\n",
    "    return indices[:k]\n",
    "\n",
    "def getWordIdx(words: list[str], w: str):\n",
    "    if w not in w2v:\n",
    "        raise Exception(f\"Unknown {w}\")\n",
    "    return words.index(w)\n",
    "\n",
    "def findNN(word: str, words: list[str], matrix: np.ndarray, k: int = 10):\n",
    "    q = matrix[getWordIdx(words, word)]\n",
    "    return findNNByQ(q, matrix, k)\n"
   ]
  },
  {
   "cell_type": "code",
   "execution_count": null,
   "metadata": {},
   "outputs": [
    {
     "data": {
      "text/plain": [
       "array(['小米', '小米啊', '红米', '苹果', 'm9', '小米3', '魅族', '小米吧', '小米手机', '平板'],\n",
       "      dtype='<U30')"
      ]
     },
     "execution_count": 30,
     "metadata": {},
     "output_type": "execute_result"
    }
   ],
   "source": [
    "indices = findNN('小米', words, matrix)\n",
    "wordsNdArr[indices]"
   ]
  },
  {
   "cell_type": "code",
   "execution_count": null,
   "metadata": {},
   "outputs": [],
   "source": [
    "from sklearn.decomposition import PCA, IncrementalPCA\n",
    "from sklearn.manifold import Isomap\n",
    "\n",
    "# decomposition = PCA(20)\n",
    "# lowDimMatrix = decomposition.fit_transform(matrix)\n",
    "\n",
    "manifold = Isomap(n_neighbors=5, n_components=50)\n",
    "lowDimMatrix = manifold.fit_transform(matrix)"
   ]
  },
  {
   "cell_type": "code",
   "execution_count": null,
   "metadata": {},
   "outputs": [],
   "source": [
    "import umap\n",
    "\n",
    "manifold = umap.UMAP(n_neighbors=15, n_components=50)\n",
    "lowDimMatrix = manifold.fit_transform(matrix)"
   ]
  },
  {
   "cell_type": "code",
   "execution_count": null,
   "metadata": {},
   "outputs": [
    {
     "name": "stdout",
     "output_type": "stream",
     "text": [
      "['某些产品' '厂商会' '类似产品' '某个产品' '类似的产品' '三星产品' '所有产品' '任何产品' '此产品' '旧产品']\n",
      "['产品' '苹果公司' '某些产品' '那些产品' '许多产品' '公司的产品' '苹果的产品' '其他产品' '苹果产品' '新产品']\n",
      "---\n",
      "['华为' '小米' '手机' '操作系统' 'zcwdz' '搬瓦工香港' '9taw5hbnq' 'nsa双模5g' '微软edge浏览器'\n",
      " '开发者预览版']\n",
      "['小米' '华为' '手机' '操作系统' '移动2g' '联通2g' '联通的2g' 'balong' 'u880' '移动3g']\n",
      "---\n",
      "['kendrick' 'nicki' 'quavo' 'timberlake' 'colman' 'gambino' 'monsta'\n",
      " 'secret' 'lannister' 'styles']\n",
      "['king' 'woman' 'queen' 'lord' 'villain' 'clown' 'legendary' 'beast' 'big'\n",
      " 'evil']\n",
      "---\n",
      "['apple' 'watch' 'smartwatch' 'tabs' 'touch' 'finder' 'snap' 'quest'\n",
      " 'applewatch' 'amaz']\n",
      "['watch' 'apple' 'applewatch' 'iwatch' '苹果智能手表' '苹果手表' '苹果apple' 'touch'\n",
      " 'smartwatch' 'phone']\n"
     ]
    }
   ],
   "source": [
    "def findSentence(sentence: list[str], words: list[str], matrix: np.ndarray, k: int = 10):\n",
    "    idxs = []\n",
    "    for w in sentence:\n",
    "        if w in words:\n",
    "            idxs.append(words.index(w))\n",
    "        else:\n",
    "            print(f\"Unknown {w}\")\n",
    "    q = matrix[idxs]\n",
    "    return findNNByQ(q.mean(axis=0), matrix, k)\n",
    "\n",
    "print(wordsNdArr[findSentence(['苹果公司', \"产品\"], words ,lowDimMatrix)])\n",
    "print(wordsNdArr[findSentence(['苹果公司', \"产品\"], words ,matrix)])\n",
    "print(\"---\")\n",
    "print(wordsNdArr[findSentence(['小米', '华为'], words ,lowDimMatrix)])\n",
    "print(wordsNdArr[findSentence(['小米', '华为'], words ,matrix)])\n",
    "print(\"---\")\n",
    "print(wordsNdArr[findSentence(['woman', 'king'], words ,lowDimMatrix)])\n",
    "print(wordsNdArr[findSentence(['woman', 'king'], words ,matrix)])\n",
    "print(\"---\")\n",
    "print(wordsNdArr[findSentence(['watch', 'apple'], words ,lowDimMatrix)])\n",
    "print(wordsNdArr[findSentence(['watch', 'apple'], words ,matrix)])"
   ]
  }
 ],
 "metadata": {
  "kernelspec": {
   "display_name": "base",
   "language": "python",
   "name": "python3"
  },
  "language_info": {
   "codemirror_mode": {
    "name": "ipython",
    "version": 3
   },
   "file_extension": ".py",
   "mimetype": "text/x-python",
   "name": "python",
   "nbconvert_exporter": "python",
   "pygments_lexer": "ipython3",
   "version": "3.11.8"
  }
 },
 "nbformat": 4,
 "nbformat_minor": 2
}
